{
 "cells": [
  {
   "cell_type": "code",
   "execution_count": null,
   "id": "3677385a-6a9d-43e0-a871-a3cb9d835532",
   "metadata": {},
   "outputs": [],
   "source": []
  }
 ],
 "metadata": {
  "kernelspec": {
   "display_name": "",
   "name": ""
  },
  "language_info": {
   "name": ""
  }
 },
 "nbformat": 4,
 "nbformat_minor": 5
}
